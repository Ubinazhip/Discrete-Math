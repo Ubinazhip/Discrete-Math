{
 "cells": [
  {
   "cell_type": "markdown",
   "metadata": {
    "ExecuteTime": {
     "end_time": "2020-10-11T19:52:37.453098Z",
     "start_time": "2020-10-11T19:52:35.244746Z"
    }
   },
   "source": [
    "#### Done By Aslan Ubingazhibov\n",
    "\n",
    "Idea on how to solve the given problem:\n",
    "\n",
    "Given: we have 11 vertices, 10 of which are ego centers and one extra vertex. Find extra vertex.\n",
    "\n",
    "**The length of set of all incidents(neighbors) to ego centers equal to overall number of nodes**\n",
    "\n",
    "Hence, if we choose 10 ego centers from 11 vertices, the length of set of all incidents to them will equal to overall number of nodes. As a result, one left vertex will be considered as extra vertex.  "
   ]
  },
  {
   "cell_type": "code",
   "execution_count": null,
   "metadata": {},
   "outputs": [],
   "source": [
    "#first download the file, no need if you already have it\n",
    "#!wget  -O 'facebook_combined.txt' -q 'http://www.mi-ras.ru/~sk/lehre/dm_hse/facebook_combined.txt'"
   ]
  },
  {
   "cell_type": "markdown",
   "metadata": {},
   "source": [
    "#### Important. If your test file have different name, please change it here(next cell)"
   ]
  },
  {
   "cell_type": "code",
   "execution_count": 1,
   "metadata": {
    "ExecuteTime": {
     "end_time": "2020-10-11T21:28:53.920732Z",
     "start_time": "2020-10-11T21:28:53.594928Z"
    }
   },
   "outputs": [],
   "source": [
    "#download the library networkx and read the file. \n",
    "import networkx as nx\n",
    "G_fb = nx.read_edgelist(\"facebook_combined.txt\", create_using = nx.Graph(), nodetype=int)"
   ]
  },
  {
   "cell_type": "markdown",
   "metadata": {},
   "source": [
    "#### Find number of nodes "
   ]
  },
  {
   "cell_type": "code",
   "execution_count": 2,
   "metadata": {
    "ExecuteTime": {
     "end_time": "2020-10-11T21:28:56.415965Z",
     "start_time": "2020-10-11T21:28:56.399208Z"
    }
   },
   "outputs": [
    {
     "name": "stdout",
     "output_type": "stream",
     "text": [
      "edges = 88234\n",
      "nodes = 4039\n"
     ]
    }
   ],
   "source": [
    "print(\"edges = \" + str(G_fb.number_of_edges()))\n",
    "print(\"nodes = \" + str(G_fb.number_of_nodes()))\n",
    "edges = G_fb.number_of_edges()\n",
    "nodes = G_fb.number_of_nodes()\n"
   ]
  },
  {
   "cell_type": "markdown",
   "metadata": {},
   "source": [
    "### Important! Please add your 11 vertices here. Inside the list.\n",
    "The input to the function \"find_extra_vertex\" must be list"
   ]
  },
  {
   "cell_type": "code",
   "execution_count": 3,
   "metadata": {
    "ExecuteTime": {
     "end_time": "2020-10-11T21:28:59.476444Z",
     "start_time": "2020-10-11T21:28:59.468557Z"
    }
   },
   "outputs": [],
   "source": [
    "input_vertices = [0,107,348,414,612,686,698,1684,1912,3437,3980]"
   ]
  },
  {
   "cell_type": "markdown",
   "metadata": {},
   "source": [
    "#### Function that receives the list of vertices as an input and returns extra vertex"
   ]
  },
  {
   "cell_type": "code",
   "execution_count": 4,
   "metadata": {
    "ExecuteTime": {
     "end_time": "2020-10-11T21:29:02.420433Z",
     "start_time": "2020-10-11T21:29:02.414306Z"
    }
   },
   "outputs": [],
   "source": [
    "def find_extra_vertex(vertices):\n",
    "    for i in range(0, len(vertices)):\n",
    "        temp_list = [index for j, index in enumerate(vertices) if j != i ]\n",
    "        temp_set = set(temp_list)\n",
    "        for element in temp_list:\n",
    "            temp_set = temp_set.union(set(G_fb.neighbors(element)))\n",
    "        if len(temp_set) == nodes:\n",
    "            return vertices[i]    \n",
    "    \n"
   ]
  },
  {
   "cell_type": "markdown",
   "metadata": {},
   "source": [
    "#### pass the list of vertices(10 ego centers + 1 extra vertex) to the function and get the answer "
   ]
  },
  {
   "cell_type": "code",
   "execution_count": 6,
   "metadata": {
    "ExecuteTime": {
     "end_time": "2020-10-11T21:36:32.462773Z",
     "start_time": "2020-10-11T21:36:32.459272Z"
    }
   },
   "outputs": [
    {
     "name": "stdout",
     "output_type": "stream",
     "text": [
      "Extra vertex: 612\n"
     ]
    }
   ],
   "source": [
    "print(\"Extra vertex: \" + str(find_extra_vertex(input_vertices)))"
   ]
  },
  {
   "cell_type": "code",
   "execution_count": null,
   "metadata": {
    "ExecuteTime": {
     "end_time": "2020-10-11T21:10:40.940139Z",
     "start_time": "2020-10-11T21:10:40.935644Z"
    }
   },
   "outputs": [],
   "source": []
  }
 ],
 "metadata": {
  "kernelspec": {
   "display_name": "Python 3",
   "language": "python",
   "name": "python3"
  },
  "language_info": {
   "codemirror_mode": {
    "name": "ipython",
    "version": 3
   },
   "file_extension": ".py",
   "mimetype": "text/x-python",
   "name": "python",
   "nbconvert_exporter": "python",
   "pygments_lexer": "ipython3",
   "version": "3.8.3"
  },
  "toc": {
   "base_numbering": 1,
   "nav_menu": {},
   "number_sections": true,
   "sideBar": true,
   "skip_h1_title": false,
   "title_cell": "Table of Contents",
   "title_sidebar": "Contents",
   "toc_cell": false,
   "toc_position": {},
   "toc_section_display": true,
   "toc_window_display": false
  },
  "varInspector": {
   "cols": {
    "lenName": 16,
    "lenType": 16,
    "lenVar": 40
   },
   "kernels_config": {
    "python": {
     "delete_cmd_postfix": "",
     "delete_cmd_prefix": "del ",
     "library": "var_list.py",
     "varRefreshCmd": "print(var_dic_list())"
    },
    "r": {
     "delete_cmd_postfix": ") ",
     "delete_cmd_prefix": "rm(",
     "library": "var_list.r",
     "varRefreshCmd": "cat(var_dic_list()) "
    }
   },
   "types_to_exclude": [
    "module",
    "function",
    "builtin_function_or_method",
    "instance",
    "_Feature"
   ],
   "window_display": false
  }
 },
 "nbformat": 4,
 "nbformat_minor": 4
}
